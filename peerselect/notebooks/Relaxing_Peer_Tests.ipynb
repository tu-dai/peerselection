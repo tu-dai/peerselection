{
 "cells": [
  {
   "cell_type": "code",
   "execution_count": 1,
   "metadata": {},
   "outputs": [
    {
     "name": "stdout",
     "output_type": "stream",
     "text": [
      "['/home/szhydkov/Documents/mattei peer review/extedned_peer_selection/peerselect', '', '/home/szhydkov/anaconda3/lib/python36.zip', '/home/szhydkov/anaconda3/lib/python3.6', '/home/szhydkov/anaconda3/lib/python3.6/lib-dynload', '/home/szhydkov/anaconda3/lib/python3.6/site-packages', '/home/szhydkov/anaconda3/lib/python3.6/site-packages/IPython/extensions', '/home/szhydkov/.ipython']\n"
     ]
    }
   ],
   "source": [
    "import sys\n",
    "sys.path.insert(0, \"/home/szhydkov/Documents/mattei peer review/extedned_peer_selection/peerselect\")\n",
    "print(sys.path)"
   ]
  },
  {
   "cell_type": "code",
   "execution_count": 2,
   "metadata": {},
   "outputs": [],
   "source": [
    "### Standard Magic and startup initializers.\n",
    "\n",
    "import math\n",
    "import csv\n",
    "import numpy as np\n",
    "import random\n",
    "import itertools\n",
    "import matplotlib\n",
    "import matplotlib.pyplot as plt\n",
    "import pandas as pd\n",
    "import scipy\n",
    "from collections import Counter\n",
    "\n",
    "from peerselect import impartial\n",
    "from peerselect import profile_generator\n",
    "\n",
    "%matplotlib inline\n",
    "matplotlib.style.use('seaborn-whitegrid')\n",
    "\n",
    "font = {'size'   : 14}\n",
    "\n",
    "matplotlib.rc('font', **font)\n",
    "np.set_printoptions(precision=3)\n",
    "np.set_printoptions(threshold=10)\n",
    "#np.set_printoptions(threshold=np.inf)"
   ]
  },
  {
   "cell_type": "code",
   "execution_count": 6,
   "metadata": {},
   "outputs": [
    {
     "name": "stderr",
     "output_type": "stream",
     "text": [
      "/home/szhydkov/anaconda3/lib/python3.6/site-packages/julia/core.py:689: FutureWarning: Accessing `Julia().<name>` to obtain Julia objects is deprecated.  Use `from julia import Main; Main.<name>` or `jl = Julia(); jl.eval('<name>')`.\n",
      "  FutureWarning,\n"
     ]
    },
    {
     "data": {
      "text/plain": [
       "<PyCall.jlwrap estimate_eps>"
      ]
     },
     "execution_count": 6,
     "metadata": {},
     "output_type": "execute_result"
    }
   ],
   "source": [
    "# Theoretical estimates of expected size and expected accuracy (recall) of peer nomination\n",
    "# from julia.api import Julia\n",
    "# jl = Julia(compiled_modules=False)\n",
    "import julia\n",
    "jl = julia.Julia(compiled_modules=False)\n",
    "jl.include(\"funs.jl\")"
   ]
  },
  {
   "cell_type": "code",
   "execution_count": 7,
   "metadata": {},
   "outputs": [
    {
     "name": "stderr",
     "output_type": "stream",
     "text": [
      "/home/szhydkov/anaconda3/lib/python3.6/site-packages/julia/core.py:689: FutureWarning: Accessing `Julia().<name>` to obtain Julia objects is deprecated.  Use `from julia import Main; Main.<name>` or `jl = Julia(); jl.eval('<name>')`.\n",
      "  FutureWarning,\n"
     ]
    },
    {
     "data": {
      "text/plain": [
       "-0.0015868684682767158"
      ]
     },
     "execution_count": 7,
     "metadata": {},
     "output_type": "execute_result"
    }
   ],
   "source": [
    "jl.estimate_eps(130, 10, 30)"
   ]
  },
  {
   "cell_type": "code",
   "execution_count": 16,
   "metadata": {
    "scrolled": true
   },
   "outputs": [
    {
     "name": "stderr",
     "output_type": "stream",
     "text": [
      "/home/szhydkov/anaconda3/lib/python3.6/site-packages/julia/core.py:689: FutureWarning: Accessing `Julia().<name>` to obtain Julia objects is deprecated.  Use `from julia import Main; Main.<name>` or `jl = Julia(); jl.eval('<name>')`.\n",
      "  FutureWarning,\n"
     ]
    },
    {
     "name": "stdout",
     "output_type": "stream",
     "text": [
      "k = 15, actual average size = 15.82\n",
      "Finished: 120,15,8,5,0.0,50\n",
      "k = 15, actual average size = 15.46\n",
      "Finished: 120,15,9,5,0.0,50\n",
      "k = 15, actual average size = 15.26\n",
      "Finished: 120,15,10,5,0.0,50\n",
      "k = 15, actual average size = 15.5\n",
      "Finished: 120,15,11,5,0.0,50\n",
      "k = 20, actual average size = 20.4\n",
      "Finished: 120,20,8,5,0.0,50\n",
      "k = 20, actual average size = 19.94\n",
      "Finished: 120,20,9,5,0.0,50\n",
      "k = 20, actual average size = 19.96\n",
      "Finished: 120,20,10,5,0.0,50\n",
      "k = 20, actual average size = 20.38\n",
      "Finished: 120,20,11,5,0.0,50\n",
      "k = 25, actual average size = 25.84\n",
      "Finished: 120,25,8,5,0.0,50\n",
      "k = 25, actual average size = 25.02\n",
      "Finished: 120,25,9,5,0.0,50\n",
      "k = 25, actual average size = 24.9\n",
      "Finished: 120,25,10,5,0.0,50\n",
      "k = 25, actual average size = 24.82\n",
      "Finished: 120,25,11,5,0.0,50\n",
      "k = 30, actual average size = 30.16\n",
      "Finished: 120,30,8,5,0.0,50\n",
      "k = 30, actual average size = 30.26\n",
      "Finished: 120,30,9,5,0.0,50\n",
      "k = 30, actual average size = 30.66\n",
      "Finished: 120,30,10,5,0.0,50\n",
      "k = 30, actual average size = 29.9\n",
      "Finished: 120,30,11,5,0.0,50\n"
     ]
    }
   ],
   "source": [
    "_DEBUG = False\n",
    "\n",
    "#random.seed(15)\n",
    "\n",
    "class Impartial:\n",
    "    VANILLA = \"Vanilla\"\n",
    "    EXACT = \"ExactDollarPartition\"\n",
    "    PARTITION = \"Partition\"\n",
    "    DPR = \"DollarPartitionRaffle\"\n",
    "    CREDIABLE = \"CredibleSubset\"\n",
    "    RAFFLE = \"DollarRaffle\"\n",
    "    NOMINATION = \"PeerNomination\"\n",
    "    ALL = (VANILLA, EXACT, PARTITION, RAFFLE, CREDIABLE, DPR, NOMINATION)\n",
    "\n",
    "s = 50\n",
    "test_n = [120]\n",
    "test_k = [20, 25, 30]\n",
    "test_m = [9]\n",
    "test_l = [5]\n",
    "test_p = [0.1, 0.25, ]\n",
    "\n",
    "# Map for all Results.\n",
    "v_results = {}\n",
    "gt_results = {}\n",
    "pn_sizes = {}  #track output size of peer nomination\n",
    "for n,k,m,l,p in itertools.product(test_n, test_k, test_m, test_l, test_p):\n",
    "    agents = np.arange(0, n)\n",
    "    for c_sample in range(s):\n",
    "        # Generate a profile and clustering\n",
    "        profile = profile_generator.generate_mallows_mixture_profile(agents, agents, [1.0], [agents], [p])\n",
    "        clustering = impartial.even_partition_order(sorted(agents, key=lambda j: random.random()), l)\n",
    "        \n",
    "        # Uncomment one:\n",
    "        #TODO: check to see how many reviews each person is getting -- is it always off?\n",
    "        # Borda -- need to start at 1 to distinguish from non-review in the score matrix\n",
    "        scores = np.arange(m, 0, -1)\n",
    "#         print(scores)\n",
    "        #Lexicographic\n",
    "        #scores = [pow(n, i) for i in np.arange(m, 0, -1)]\n",
    "        \n",
    "        # Generate an m-regular assignment\n",
    "        m_assignment = profile_generator.generate_approx_m_regular_assignment(agents, m, clustering, randomize=False)\n",
    "#         print(m_assignment[1])\n",
    "        \n",
    "        m_matrix = np.zeros((n,n))\n",
    "        for i in agents:\n",
    "            for j in m_assignment[i]:\n",
    "                m_matrix[i, j] = 1\n",
    "        \n",
    "#         print(len([x for x in m_matrix[1] if x!=0]))\n",
    "        score_matrix = profile_generator.strict_m_score_matrix(profile, m_assignment, scores)\n",
    "#         print([len([x for x in score_matrix[i,:].tolist() if x!=0]) for i in agents])\n",
    "#         print([len([x for x in score_matrix[:,i].tolist() if x!=0]) for i in agents])\n",
    "#         print(score_matrix[:,110].tolist())\n",
    "\n",
    "        \n",
    "\n",
    "        #Compute Target Set.\n",
    "        target_set = impartial.vanilla(score_matrix, k)\n",
    "        \n",
    "        # Capture the winning sets\n",
    "        ws = {}\n",
    "        # Let everyone else have the same size set so they are all compareable.\n",
    "        vs = [i for i,j in target_set]\n",
    "        ws[Impartial.VANILLA] = vs\n",
    "        \n",
    "        # Set all sizes to be the same.\n",
    "        ws[Impartial.EXACT] = impartial.exact_dollar_partition_explicit(score_matrix, k, clustering, normalize=True)\n",
    "        ws[Impartial.PARTITION] = impartial.partition_explicit(score_matrix, k, clustering, normalize=False)\n",
    "        \n",
    "        ws[Impartial.CREDIABLE] = impartial.credible_subset(score_matrix, k, m, normalize=False)\n",
    "        ws[Impartial.DPR] = impartial.dollar_raffle_explicit(score_matrix, k, clustering, normalize=True)\n",
    "        #Call Raffle and have everyone in a cluster by themselves = Dollar.\n",
    "        ws[Impartial.RAFFLE] = impartial.dollar_raffle(score_matrix, k, n, randomize=True, normalize=True)\n",
    "        \n",
    "        # See if peer nomination works..\n",
    "        ws[Impartial.NOMINATION] = impartial.peer_nomination_lottery(score_matrix, k, jl.estimate_eps(n, m, k))\n",
    "#         print(len(ws[Impartial.NOMINATION]))\n",
    "        \n",
    "        for x in Impartial.ALL:\n",
    "            key = (n, k, m, l, p, s, x)\n",
    "#             if x == Impartial.NOMINATION:\n",
    "#                 pn_sizes[key] = pn_sizes.get(key, []) + [len(set(ws[x]))]\n",
    "            v_results[key] = v_results.get(key, []) + [len(set(vs) & set(ws[x]))]\n",
    "            gt_results[key] = gt_results.get(key, []) + [len(set(np.arange(0, k)) & set(ws[x]))]\n",
    "            #if x == Impartial.VANILLA:\n",
    "            #    print(ws[x])\n",
    "            \n",
    "        key = (n, k, m, l, p)\n",
    "        pn_sizes[key] = pn_sizes.get(key, []) + [len(set(ws[x]))]\n",
    "        \n",
    "    print(\"k = \" + str(k) + \", actual average size = \" + str(np.mean(pn_sizes[key])))\n",
    "    print(\"Finished: \" + \",\".join([str(x) for x in [n, k, m, l, p, s]]))\n",
    "    \n",
    "v_df = pd.DataFrame(v_results)\n",
    "v_df.columns.names = ['n', 'k', 'm', 'l', 'p', 's', 'algo']\n",
    "\n",
    "gt_df = pd.DataFrame(gt_results)\n",
    "gt_df.columns.names = ['n', 'k', 'm', 'l', 'p', 's', 'algo']"
   ]
  },
  {
   "cell_type": "code",
   "execution_count": 10,
   "metadata": {
    "scrolled": true
   },
   "outputs": [
    {
     "name": "stdout",
     "output_type": "stream",
     "text": [
      "(120, 15, 8, 5, 0.5)\n",
      "15.84\n",
      "(120, 15, 9, 5, 0.5)\n",
      "15.66\n",
      "(120, 15, 10, 5, 0.5)\n",
      "15.12\n",
      "(120, 15, 11, 5, 0.5)\n",
      "15.18\n",
      "(120, 20, 8, 5, 0.5)\n",
      "20.46\n",
      "(120, 20, 9, 5, 0.5)\n",
      "20.04\n",
      "(120, 20, 10, 5, 0.5)\n",
      "19.86\n",
      "(120, 20, 11, 5, 0.5)\n",
      "20.44\n",
      "(120, 25, 8, 5, 0.5)\n",
      "25.68\n",
      "(120, 25, 9, 5, 0.5)\n",
      "25.1\n",
      "(120, 25, 10, 5, 0.5)\n",
      "25.1\n",
      "(120, 25, 11, 5, 0.5)\n",
      "25.4\n",
      "(120, 30, 8, 5, 0.5)\n",
      "30.42\n",
      "(120, 30, 9, 5, 0.5)\n",
      "30.16\n",
      "(120, 30, 10, 5, 0.5)\n",
      "29.8\n",
      "(120, 30, 11, 5, 0.5)\n",
      "30.14\n"
     ]
    }
   ],
   "source": [
    "for key in pn_sizes.keys():\n",
    "    print(key)\n",
    "    print(np.mean(pn_sizes[key]))"
   ]
  },
  {
   "cell_type": "code",
   "execution_count": 21,
   "metadata": {
    "scrolled": false
   },
   "outputs": [
    {
     "name": "stdout",
     "output_type": "stream",
     "text": [
      "\t\tApproximate Vanilla Ordering\n",
      "\t\t MEAN:\n",
      "algo                Vanilla  ExactDollarPartition  Partition  PercentChange\n",
      "n   k  m  l p   s                                                          \n",
      "120 15 10 5 0.0 50    13.20                 11.94      12.02      -0.665557\n",
      "    20 10 5 0.0 50    17.76                 16.22      15.92       1.884422\n",
      "    25 10 5 0.0 50    22.68                 21.06      20.74       1.542912\n",
      "    30 10 5 0.0 50    27.36                 25.66      25.18       1.906275\n",
      "\t\t STD:\n",
      "algo                 Vanilla  ExactDollarPartition  Partition  PercentChange\n",
      "n   k  m  l p   s                                                           \n",
      "120 15 10 5 0.0 50  0.808122              1.268295   1.316923      -3.692557\n",
      "    20 10 5 0.0 50  0.893514              1.183043   1.175255       0.662698\n",
      "    25 10 5 0.0 50  0.819158              1.268295   1.396935      -9.208781\n",
      "    30 10 5 0.0 50  1.257792              1.271509   1.649861     -22.932360\n",
      "\t\t MIN:\n",
      "algo                Vanilla  ExactDollarPartition  Partition  PercentChange\n",
      "n   k  m  l p   s                                                          \n",
      "120 15 10 5 0.0 50       12                     8          8       0.000000\n",
      "    20 10 5 0.0 50       16                    14         14       0.000000\n",
      "    25 10 5 0.0 50       21                    18         17       5.882353\n",
      "    30 10 5 0.0 50       24                    23         22       4.545455\n"
     ]
    },
    {
     "name": "stderr",
     "output_type": "stream",
     "text": [
      "/home/szhydkov/anaconda3/lib/python3.6/site-packages/ipykernel_launcher.py:26: DeprecationWarning: \n",
      ".ix is deprecated. Please use\n",
      ".loc for label based indexing or\n",
      ".iloc for positional indexing\n",
      "\n",
      "See the documentation here:\n",
      "http://pandas.pydata.org/pandas-docs/stable/indexing.html#ix-indexer-is-deprecated\n",
      "/home/szhydkov/anaconda3/lib/python3.6/site-packages/ipykernel_launcher.py:28: DeprecationWarning: \n",
      ".ix is deprecated. Please use\n",
      ".loc for label based indexing or\n",
      ".iloc for positional indexing\n",
      "\n",
      "See the documentation here:\n",
      "http://pandas.pydata.org/pandas-docs/stable/indexing.html#ix-indexer-is-deprecated\n"
     ]
    },
    {
     "data": {
      "image/png": "[encoded data removed]",
      "text/plain": [
       "<Figure size 1440x720 with 1 Axes>"
      ]
     },
     "metadata": {},
     "output_type": "display_data"
    }
   ],
   "source": [
    "#\n",
    "# Takes a slice of the array and generates the graphs etc.\n",
    "#\n",
    "def make_output(df, test, labels):\n",
    "    means = df.loc[:, test].mean().unstack()\n",
    "    errors = df.loc[:, test].std().unstack()\n",
    "    mins = df.loc[:, test].min().unstack()\n",
    "    # print(means)\n",
    "    # print(errors)\n",
    "\n",
    "    print(\"\\t\\tApproximate Vanilla Ordering\")\n",
    "    means = means[['Vanilla','ExactDollarPartition', \"PeerNomination\", 'Partition', 'DollarPartitionRaffle', 'DollarRaffle', 'CredibleSubset']]\n",
    "    errors = errors[['Vanilla','ExactDollarPartition', \"PeerNomination\", 'Partition', 'DollarPartitionRaffle', 'DollarRaffle', 'CredibleSubset']]\n",
    "    \n",
    "    means['PercentChange'] = (means.ExactDollarPartition - means.Partition) / means.Partition * 100.\n",
    "    errors['PercentChange'] = (errors.ExactDollarPartition - errors.Partition) / errors.Partition * 100.\n",
    "    mins['PercentChange'] = (mins.ExactDollarPartition - mins.Partition) / mins.Partition * 100.\n",
    "    print(\"\\t\\t MEAN:\\n\" + str(means[['Vanilla','ExactDollarPartition', 'Partition', 'PercentChange']]))\n",
    "    print(\"\\t\\t STD:\\n\" + str(errors[['Vanilla','ExactDollarPartition', 'Partition', 'PercentChange']]))\n",
    "    print(\"\\t\\t MIN:\\n\" + str(mins[['Vanilla','ExactDollarPartition', 'Partition', 'PercentChange']]))\n",
    "    del means['PercentChange']\n",
    "    del errors['PercentChange']\n",
    "    del mins['PercentChange']\n",
    "    \n",
    "    for index, row in means.iterrows():\n",
    "        means.ix[index] = row / float(index[1])\n",
    "    for index, row in errors.iterrows():\n",
    "        errors.ix[index] = row / float(index[1])\n",
    "    \n",
    "    # print(errors)\n",
    "    \n",
    "    #Set colors..\n",
    "    color_list = plt.cm.Paired(np.linspace(0, 1, 10))\n",
    "    color_list = color_list[:7]\n",
    "    #color_list = sns.color_palette(\"pastel\", 6)\n",
    "    means.plot(kind='bar', legend=False, yerr=errors.values.T, figsize=(20, 10), ylim=(0.0, 1.05), \\\n",
    "            color=color_list, error_kw={'ecolor':'Black', 'linewidth':2, 'capsize':4}, width=0.75)\n",
    "    plt.title(\"Strict Preference, Borda Scoring, Versus Vanilla Ordering\")\n",
    "    plt.legend(bbox_to_anchor = (0,0.01,1,1), bbox_transform=plt.gcf().transFigure, loc='upper center', ncol=7, borderaxespad=0.)\n",
    "    plt.gca().set_xticklabels(labels)\n",
    "    plt.gca().set_xlabel(\"\")\n",
    "    plt.show()\n",
    "make_output(gt_df, (120,slice(None),10,5,0.0,50), test_k)"
   ]
  },
  {
   "cell_type": "code",
   "execution_count": 18,
   "metadata": {},
   "outputs": [
    {
     "data": {
      "text/plain": [
       "algo\n",
       "Vanilla                  0.886\n",
       "ExactDollarPartition     0.826\n",
       "Partition                0.802\n",
       "DollarRaffle             0.344\n",
       "CredibleSubset           0.708\n",
       "DollarPartitionRaffle    0.762\n",
       "PeerNomination           0.832\n",
       "dtype: float64"
      ]
     },
     "execution_count": 18,
     "metadata": {},
     "output_type": "execute_result"
    }
   ],
   "source": [
    "(gt_df[(130,25,9,5,0.5,20)]/25).mean()"
   ]
  },
  {
   "cell_type": "code",
   "execution_count": null,
   "metadata": {},
   "outputs": [],
   "source": [
    "a = np.array([[1, 2, 0, 0],\n",
    "              [2, 1, 1, 1],\n",
    "              [0, 0, 3, 0],\n",
    "              [0, 0, 0, 4]])\n",
    "    "
   ]
  },
  {
   "cell_type": "code",
   "execution_count": null,
   "metadata": {},
   "outputs": [],
   "source": [
    "(a[0,:].nonzero()[0])"
   ]
  },
  {
   "cell_type": "code",
   "execution_count": null,
   "metadata": {},
   "outputs": [],
   "source": [
    "from scipy import stats\n",
    "\n",
    "# We assume that the score matrix is strict, i.e., there are no ties in the scores assigned.\n",
    "\n",
    "def peer_nomination_lottery(score_matrix, k, epislon=0):\n",
    "    winning_set = []\n",
    "    n = score_matrix.shape[0]\n",
    "    for a in range(score_matrix.shape[0]):\n",
    "        print(\"agent\",a)\n",
    "        nomination_count = 0\n",
    "        # Iterate over each column that has non_zero entry.\n",
    "        for pool in (score_matrix[a,:].nonzero()[0]):\n",
    "            # Compute the nominating fraction\n",
    "            # m is the numner of non-zero entries in teh column\n",
    "            m = np.count_nonzero(score_matrix[:,pool])\n",
    "            nomination_fraction = (float(k) / float(n)) * m           \n",
    "            print(nomination_fraction)\n",
    "            print(score_matrix[:,pool])\n",
    "            # ranks is densely packed and will have highest value at best scored agent.\n",
    "            ranks = stats.rankdata(score_matrix[:,pool], method='dense').astype(int)\n",
    "            print(ranks)\n",
    "            max_rank = np.max(ranks)\n",
    "            print(\"threshold\", max_rank - np.floor(nomination_fraction))\n",
    "            # The player needs to fall within ranks > max_rank - floor(nomination_quota)\n",
    "            if ranks[a] > max_rank - np.floor(nomination_fraction):\n",
    "                print(\"nominated @ 1\")\n",
    "                nomination_count += 1\n",
    "            # Otherwise if it is in the border line rank then we nominate with the remainder.\n",
    "            elif ranks[a] > (max_rank - np.floor(nomination_fraction) - 1):\n",
    "                print(\"nominated @ remainder\", nomination_fraction - np.floor(nomination_fraction))\n",
    "                if np.random.uniform() < nomination_fraction - np.floor(nomination_fraction):\n",
    "                    nomination_count += 1\n",
    "        print(\"nomination_count\", nomination_count)\n",
    "        # If we are nominated by at least half the people who review us...\n",
    "        if nomination_count >= np.floor(np.count_nonzero(score_matrix[a,:]) / 2.0):\n",
    "            winning_set.append(a)\n",
    "    return winning_set\n",
    "        \n",
    "            \n",
    "                \n",
    "            \n",
    "            \n",
    "        \n",
    "\n",
    "peer_nomination_lottery(a, 2, 0.0)"
   ]
  },
  {
   "cell_type": "code",
   "execution_count": null,
   "metadata": {},
   "outputs": [],
   "source": [
    "a[0].nonzero()"
   ]
  },
  {
   "cell_type": "code",
   "execution_count": null,
   "metadata": {},
   "outputs": [],
   "source": [
    "a[:,1]"
   ]
  },
  {
   "cell_type": "code",
   "execution_count": null,
   "metadata": {},
   "outputs": [],
   "source": [
    "np.floor(2.5)"
   ]
  },
  {
   "cell_type": "code",
   "execution_count": null,
   "metadata": {},
   "outputs": [],
   "source": [
    "np.random.uniform()"
   ]
  },
  {
   "cell_type": "code",
   "execution_count": null,
   "metadata": {},
   "outputs": [],
   "source": []
  },
  {
   "cell_type": "code",
   "execution_count": null,
   "metadata": {},
   "outputs": [],
   "source": []
  },
  {
   "cell_type": "code",
   "execution_count": null,
   "metadata": {},
   "outputs": [],
   "source": []
  }
 ],
 "metadata": {
  "@webio": {
   "lastCommId": null,
   "lastKernelId": null
  },
  "kernelspec": {
   "display_name": "Python 3",
   "language": "python",
   "name": "python3"
  },
  "language_info": {
   "codemirror_mode": {
    "name": "ipython",
    "version": 3
   },
   "file_extension": ".py",
   "mimetype": "text/x-python",
   "name": "python",
   "nbconvert_exporter": "python",
   "pygments_lexer": "ipython3",
   "version": "3.6.5"
  }
 },
 "nbformat": 4,
 "nbformat_minor": 2
}
